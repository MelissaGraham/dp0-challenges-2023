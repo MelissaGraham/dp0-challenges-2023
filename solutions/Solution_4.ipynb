{
 "cells": [
  {
   "cell_type": "markdown",
   "id": "749b0ddf",
   "metadata": {},
   "source": [
    "# Challenge 4: Datashader\n",
    "\n",
    "When plotting a million or more sources, standard plotting packages (like `matplotlib`)\n",
    "are not going to work: the points overlap too much, even if point transparency is set low.\n",
    "\n",
    "Instead, challenge yourself to use the packages `bokeh`, `holoviews`, and `datashader`\n",
    "to make interactive plots for large data sets.\n",
    "\n",
    "This challenge is completely open!! Make whatever cool plot you want and share with the class.\n",
    "\n",
    "\n",
    "## Resources\n",
    "\n",
    "ADQL Recipes. <br>\n",
    "https://dp0-2.lsst.io/data-access-analysis-tools/adql-recipes.html#adql-recipes\n",
    "\n",
    "DP0.2 Catalog Data Products. <br>\n",
    "https://dp0-2.lsst.io/data-products-dp0-2/index.html#catalogs\n",
    "\n",
    "Tutorial notebook 02, Catalog Queries with TAP.<br>\n",
    "Tutorial notebook 06b, Interactive Catalog Visualization. <br>\n",
    "Find them in your `notebooks/tutorial-notebooks/` directory.\n",
    "\n",
    "\n",
    "## Hints\n",
    "\n",
    "For this challenge you get more of a template than just a hint.\n",
    "\n",
    "Here's the process to recreate the color-magnitude diagram for a million point-like\n",
    "sources from Section 5 of tutorial notebook 06b."
   ]
  },
  {
   "cell_type": "markdown",
   "id": "effe96c9-a91d-4a72-92a4-33bf8859d4cb",
   "metadata": {},
   "source": [
    "Import packages."
   ]
  },
  {
   "cell_type": "code",
   "execution_count": null,
   "id": "7acc79a4-8530-42d9-96e5-b7acb4397864",
   "metadata": {
    "tags": []
   },
   "outputs": [],
   "source": [
    "from lsst.rsp import get_tap_service\n",
    "import datashader as dsh\n",
    "from bokeh.io import output_notebook\n",
    "import holoviews as hv\n",
    "from holoviews import streams\n",
    "from holoviews.operation.datashader import dynspread, datashade"
   ]
  },
  {
   "cell_type": "markdown",
   "id": "658e3aaa-aa1d-46d7-877b-e3617b61d4df",
   "metadata": {},
   "source": [
    "Set parameters to show plots in the notebook."
   ]
  },
  {
   "cell_type": "code",
   "execution_count": null,
   "id": "e7bee208-22ec-463b-a424-1894c06d2033",
   "metadata": {
    "tags": []
   },
   "outputs": [],
   "source": [
    "hv.extension('bokeh')\n",
    "output_notebook()"
   ]
  },
  {
   "cell_type": "markdown",
   "id": "81adc25c-064c-4a80-a345-4dd04c6ebad3",
   "metadata": {},
   "source": [
    "Instantiate the TAP service."
   ]
  },
  {
   "cell_type": "code",
   "execution_count": null,
   "id": "bcaf1d53-5769-43a6-b84f-fa683530b1f3",
   "metadata": {
    "tags": []
   },
   "outputs": [],
   "source": [
    "service = get_tap_service(\"tap\")"
   ]
  },
  {
   "cell_type": "markdown",
   "id": "a1ea0158-f935-48f8-ba70-5d951fc4b552",
   "metadata": {},
   "source": [
    "Query for and return data for at least 1 million Objects (takes ~1 minute)\n",
    "around an arbitrary sky coordinate."
   ]
  },
  {
   "cell_type": "code",
   "execution_count": null,
   "id": "084d3959-523c-4825-8112-a91326a7ca70",
   "metadata": {
    "tags": []
   },
   "outputs": [],
   "source": [
    "query = \"SELECT coord_ra, coord_dec, objectId, r_extendedness, \"\\\n",
    "        \"scisql_nanojanskyToAbMag(g_cModelFlux) AS mag_g_cModel, \"\\\n",
    "        \"scisql_nanojanskyToAbMag(r_cModelFlux) AS mag_r_cModel, \"\\\n",
    "        \"scisql_nanojanskyToAbMag(i_cModelFlux) AS mag_i_cModel \"\\\n",
    "        \"FROM dp02_dc2_catalogs.Object \"\\\n",
    "        \"WHERE CONTAINS(POINT('ICRS', coord_ra, coord_dec),\"\\\n",
    "        \"CIRCLE('ICRS', 55.65, -40, 1)) = 1 \" \\\n",
    "        \"AND detect_isPrimary = 1 \"\\\n",
    "        \"AND scisql_nanojanskyToAbMag(r_cModelFlux) < 27.0 \"\\\n",
    "        \"AND r_extendedness IS NOT NULL\"\n",
    "data = service.search(query).to_table().to_pandas()\n",
    "print(len(data))"
   ]
  },
  {
   "cell_type": "markdown",
   "id": "a1a3f171-d1df-42cf-913e-d29249175d67",
   "metadata": {},
   "source": [
    "Compute _g-r_ and _r-i_ colors for all objects."
   ]
  },
  {
   "cell_type": "code",
   "execution_count": null,
   "id": "9faa7faa-e645-468d-9078-fb1cc7c17ce9",
   "metadata": {
    "tags": []
   },
   "outputs": [],
   "source": [
    "data['gmr'] = data['mag_g_cModel'] - data['mag_r_cModel']\n",
    "data['rmi'] = data['mag_r_cModel'] - data['mag_i_cModel']"
   ]
  },
  {
   "cell_type": "markdown",
   "id": "9d55a669-ddb1-4f0b-95c0-c2b5439d6e28",
   "metadata": {},
   "source": [
    "Define the plot's points and bounding box."
   ]
  },
  {
   "cell_type": "code",
   "execution_count": null,
   "id": "3dc202e4-2ae6-4745-a789-a111a9591330",
   "metadata": {
    "tags": []
   },
   "outputs": [],
   "source": [
    "points = hv.Points((data['gmr'], data['rmi']))\n",
    "boundsxy = (0, 0, 0, 0)\n",
    "box = streams.BoundsXY(source=points, bounds=boundsxy)\n",
    "bounds = hv.DynamicMap(lambda bounds: hv.Bounds(bounds), streams=[box])"
   ]
  },
  {
   "cell_type": "markdown",
   "id": "d2ee6012-df1f-4f65-8563-dc290ae2cc85",
   "metadata": {},
   "source": [
    "Define the plot itself, and display it."
   ]
  },
  {
   "cell_type": "code",
   "execution_count": null,
   "id": "98f199cd-aed7-42fd-aacd-98abee7a16c8",
   "metadata": {
    "tags": []
   },
   "outputs": [],
   "source": [
    "p = dynspread(datashade(points, cmap=\"Viridis\"))\n",
    "p = p.opts(width=800, height=300, padding=0.05, show_grid=True,\n",
    "           xlim=(-2.0, 7.0), ylim=(-5.0, 3.0), xlabel=\"(g-r)\", ylabel=\"(r-i)\")\n",
    "p * bounds"
   ]
  },
  {
   "cell_type": "markdown",
   "id": "2114da81-1299-4093-a69b-3ae972154220",
   "metadata": {},
   "source": [
    "Use the icon with the dashed-box and magnifying glass to zoom in, and notice how the plot automatically adjusts from heatmap to individual points, allowing the million points to be visualized all together.\n",
    "\n",
    "Use the two-arrows-in-a-circle icon to reset the plot.\n",
    "\n",
    "**NOW MAKE YOUR OWN, BELOW!**"
   ]
  },
  {
   "cell_type": "code",
   "execution_count": null,
   "id": "a37381e6-f8bb-40bc-b6de-c45ff4c26bb9",
   "metadata": {
    "tags": []
   },
   "outputs": [],
   "source": [
    "del query, data\n",
    "del points, boundsxy, box, bounds, p"
   ]
  },
  {
   "cell_type": "markdown",
   "id": "94c07703-848c-4d80-beb1-8b913207abc6",
   "metadata": {},
   "source": [
    "# My solution is FIRE\n",
    "\n",
    "It might not be scientifically informative but it is FUN."
   ]
  },
  {
   "cell_type": "code",
   "execution_count": null,
   "id": "951cac9a-1c5e-4209-a08d-0f686b42b4c6",
   "metadata": {
    "tags": []
   },
   "outputs": [],
   "source": [
    "import numpy as np"
   ]
  },
  {
   "cell_type": "code",
   "execution_count": null,
   "id": "fcc3ea4d-6c06-407b-8e1f-c417481fef01",
   "metadata": {
    "tags": []
   },
   "outputs": [],
   "source": [
    "query = \"SELECT coord_ra, coord_dec, objectId, r_extendedness, \"\\\n",
    "        \"scisql_nanojanskyToAbMag(r_cModelFlux) AS mag_r_cModel, \"\\\n",
    "        \"scisql_nanojanskyToAbMag(i_cModelFlux) AS mag_i_cModel \"\\\n",
    "        \"FROM dp02_dc2_catalogs.Object \"\\\n",
    "        \"WHERE CONTAINS(POINT('ICRS', coord_ra, coord_dec),\"\\\n",
    "        \"CIRCLE('ICRS', 55.65, -40, 2)) = 1 \" \\\n",
    "        \"AND detect_isPrimary = 1 \"\\\n",
    "        \"AND scisql_nanojanskyToAbMag(r_cModelFlux) < 27.0 \"\\\n",
    "        \"AND r_extendedness = 1\"\n",
    "data = service.search(query).to_table().to_pandas()\n",
    "print(len(data))"
   ]
  },
  {
   "cell_type": "code",
   "execution_count": null,
   "id": "f2f9255f-80a4-43ea-a0ac-a8c0107f7c4e",
   "metadata": {
    "tags": []
   },
   "outputs": [],
   "source": [
    "data['rmi'] = data['mag_r_cModel'] - data['mag_i_cModel']"
   ]
  },
  {
   "cell_type": "code",
   "execution_count": null,
   "id": "fb159716-8bd7-48a0-a2bd-461fc5125910",
   "metadata": {
    "tags": []
   },
   "outputs": [],
   "source": [
    "tx = np.where(data['mag_i_cModel'][:] < 25)[0]\n",
    "print(len(tx))"
   ]
  },
  {
   "cell_type": "code",
   "execution_count": null,
   "id": "52a8c6f5-ce79-4c82-b1d2-0994f0cffd14",
   "metadata": {
    "tags": []
   },
   "outputs": [],
   "source": [
    "points = hv.Points((data['rmi'][tx], data['mag_i_cModel'][tx]))"
   ]
  },
  {
   "cell_type": "code",
   "execution_count": null,
   "id": "9ed91791-cc0b-4847-8013-00c0004ffab0",
   "metadata": {
    "tags": []
   },
   "outputs": [],
   "source": [
    "boundsxy = (0, 0, 0, 0)\n",
    "box = streams.BoundsXY(source=points, bounds=boundsxy)\n",
    "bounds = hv.DynamicMap(lambda bounds: hv.Bounds(bounds), streams=[box])"
   ]
  },
  {
   "cell_type": "code",
   "execution_count": null,
   "id": "7f83bea8-13cf-4d68-a33a-a6bc5d9af7f1",
   "metadata": {
    "tags": []
   },
   "outputs": [],
   "source": [
    "p = dynspread(datashade(points, cmap=\"hot\"))\n",
    "p = p.opts(width=500, height=500, padding=0.05, show_grid=False, bgcolor='black',\n",
    "           xlim=(-2.0, 2.0), ylim=(25, 14), xlabel=\"(r-i) color\", ylabel=\"i-band mag\")\n",
    "p * bounds"
   ]
  },
  {
   "cell_type": "markdown",
   "id": "d51f9743-a721-4640-bf6f-d9ac676bcab6",
   "metadata": {},
   "source": [
    "If the plot above flashes a flame and then goes all black, just interact with it \n",
    "a bit with your mouse (e.g., slightly zoom out) and usually it reappears.\n",
    "\n",
    "Not sure what the bug is there, bonus points if someone can make this plot sturdier!!\n",
    "\n",
    "Here's a screenshot so you can see what I made, just in case:\n",
    "\n",
    "<img src=\"figures/solution4_figure1.png\" width=\"400px\">"
   ]
  },
  {
   "cell_type": "code",
   "execution_count": null,
   "id": "80139c7e-1758-49df-a540-f78adeec13cb",
   "metadata": {},
   "outputs": [],
   "source": []
  }
 ],
 "metadata": {
  "kernelspec": {
   "display_name": "LSST",
   "language": "python",
   "name": "lsst"
  },
  "language_info": {
   "codemirror_mode": {
    "name": "ipython",
    "version": 3
   },
   "file_extension": ".py",
   "mimetype": "text/x-python",
   "name": "python",
   "nbconvert_exporter": "python",
   "pygments_lexer": "ipython3",
   "version": "3.10.10"
  },
  "toc-autonumbering": false
 },
 "nbformat": 4,
 "nbformat_minor": 5
}
